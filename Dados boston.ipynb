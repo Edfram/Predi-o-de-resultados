{
 "cells": [
  {
   "cell_type": "code",
   "execution_count": 4,
   "id": "e9a885ed-a8e4-41c0-a1df-6996a86901f8",
   "metadata": {},
   "outputs": [
    {
     "name": "stdout",
     "output_type": "stream",
     "text": [
      "Edfram\n"
     ]
    }
   ],
   "source": [
    "print(\"Edfram\")"
   ]
  },
  {
   "cell_type": "markdown",
   "id": "009542fe",
   "metadata": {},
   "source": [
    "edfram rodrigues "
   ]
  }
 ],
 "metadata": {
  "kernelspec": {
   "display_name": "Python . (XPython Raw)",
   "language": "python",
   "name": "xpython-raw"
  },
  "language_info": {
   "file_extension": ".py",
   "mimetype": "text/x-python",
   "name": "python",
   "version": "3.11.9"
  }
 },
 "nbformat": 4,
 "nbformat_minor": 5
}
